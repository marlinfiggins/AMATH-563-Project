{
 "cells": [
  {
   "cell_type": "markdown",
   "metadata": {},
   "source": [
    "## (0) Import Packages"
   ]
  },
  {
   "cell_type": "code",
   "execution_count": 1,
   "metadata": {},
   "outputs": [],
   "source": [
    "import sys\n",
    "sys.path.append('../src/') \n",
    "import numpy as np\n",
    "import torch\n",
    "import Core as C\n",
    "import math\n",
    "import pickle\n",
    "import pandas as pd\n",
    "import time"
   ]
  },
  {
   "cell_type": "markdown",
   "metadata": {},
   "source": [
    "## (1) Load Data and Batch Data"
   ]
  },
  {
   "cell_type": "code",
   "execution_count": 2,
   "metadata": {},
   "outputs": [
    {
     "data": {
      "text/html": [
       "<div>\n",
       "<style scoped>\n",
       "    .dataframe tbody tr th:only-of-type {\n",
       "        vertical-align: middle;\n",
       "    }\n",
       "\n",
       "    .dataframe tbody tr th {\n",
       "        vertical-align: top;\n",
       "    }\n",
       "\n",
       "    .dataframe thead th {\n",
       "        text-align: right;\n",
       "    }\n",
       "</style>\n",
       "<table border=\"1\" class=\"dataframe\">\n",
       "  <thead>\n",
       "    <tr style=\"text-align: right;\">\n",
       "      <th></th>\n",
       "      <th>accession_id</th>\n",
       "      <th>aligned_seqs</th>\n",
       "      <th>scores</th>\n",
       "      <th>labels</th>\n",
       "      <th>numerical_tokens</th>\n",
       "    </tr>\n",
       "  </thead>\n",
       "  <tbody>\n",
       "    <tr>\n",
       "      <th>0</th>\n",
       "      <td>EU100698</td>\n",
       "      <td>ATGAG-GACTATCA-T--TGCTTTGAGCTA-CATT-CTA-T-GTCT...</td>\n",
       "      <td>1169.0</td>\n",
       "      <td>[0, 0, 0, 1, 0, 1, 0, 0, 1, 1, 0, 1, 1, 0, 1, ...</td>\n",
       "      <td>[0, 2, 3, 0, 3, 4, 3, 0, 1, 2, 0, 2, 1, 0, 4, ...</td>\n",
       "    </tr>\n",
       "    <tr>\n",
       "      <th>1</th>\n",
       "      <td>EU199367</td>\n",
       "      <td>ATGA-AGACTATCA-T--TGCTTTGAGCTA-CATT-CTA-T-GTCT...</td>\n",
       "      <td>1169.0</td>\n",
       "      <td>[0, 0, 0, 1, 1, 0, 0, 0, 1, 1, 0, 1, 1, 0, 1, ...</td>\n",
       "      <td>[0, 2, 3, 0, 4, 0, 3, 0, 1, 2, 0, 2, 1, 0, 4, ...</td>\n",
       "    </tr>\n",
       "    <tr>\n",
       "      <th>2</th>\n",
       "      <td>CY026603</td>\n",
       "      <td>TATTAACC--ATGAAGACTATCAT-TGCTTTGAGCTA-CATT-CTA...</td>\n",
       "      <td>1172.0</td>\n",
       "      <td>[1, 0, 1, 0, 1, 1, 1, 1, 1, 1, 0, 1, 0, 0, 0, ...</td>\n",
       "      <td>[2, 0, 2, 2, 0, 0, 1, 1, 4, 4, 0, 2, 3, 0, 0, ...</td>\n",
       "    </tr>\n",
       "    <tr>\n",
       "      <th>3</th>\n",
       "      <td>CY026771</td>\n",
       "      <td>TTCTATTAACC--ATGAAGACTATCAT-TGCTTTGAGCTA-CATT-...</td>\n",
       "      <td>1171.0</td>\n",
       "      <td>[1, 1, 1, 1, 0, 1, 0, 1, 1, 1, 1, 1, 1, 0, 1, ...</td>\n",
       "      <td>[2, 2, 1, 2, 0, 2, 2, 0, 0, 1, 1, 4, 4, 0, 2, ...</td>\n",
       "    </tr>\n",
       "    <tr>\n",
       "      <th>4</th>\n",
       "      <td>EU516081</td>\n",
       "      <td>ATGAA-AG-TA-AAACTAC-TGGTCC-T--G-T-T-AT-GC-A-CA...</td>\n",
       "      <td>1171.0</td>\n",
       "      <td>[0, 0, 0, 0, 0, 1, 0, 1, 1, 0, 1, 1, 0, 0, 0, ...</td>\n",
       "      <td>[0, 2, 3, 0, 0, 4, 0, 3, 4, 2, 0, 4, 0, 0, 0, ...</td>\n",
       "    </tr>\n",
       "  </tbody>\n",
       "</table>\n",
       "</div>"
      ],
      "text/plain": [
       "  accession_id                                       aligned_seqs  scores  \\\n",
       "0     EU100698  ATGAG-GACTATCA-T--TGCTTTGAGCTA-CATT-CTA-T-GTCT...  1169.0   \n",
       "1     EU199367  ATGA-AGACTATCA-T--TGCTTTGAGCTA-CATT-CTA-T-GTCT...  1169.0   \n",
       "2     CY026603  TATTAACC--ATGAAGACTATCAT-TGCTTTGAGCTA-CATT-CTA...  1172.0   \n",
       "3     CY026771  TTCTATTAACC--ATGAAGACTATCAT-TGCTTTGAGCTA-CATT-...  1171.0   \n",
       "4     EU516081  ATGAA-AG-TA-AAACTAC-TGGTCC-T--G-T-T-AT-GC-A-CA...  1171.0   \n",
       "\n",
       "                                              labels  \\\n",
       "0  [0, 0, 0, 1, 0, 1, 0, 0, 1, 1, 0, 1, 1, 0, 1, ...   \n",
       "1  [0, 0, 0, 1, 1, 0, 0, 0, 1, 1, 0, 1, 1, 0, 1, ...   \n",
       "2  [1, 0, 1, 0, 1, 1, 1, 1, 1, 1, 0, 1, 0, 0, 0, ...   \n",
       "3  [1, 1, 1, 1, 0, 1, 0, 1, 1, 1, 1, 1, 1, 0, 1, ...   \n",
       "4  [0, 0, 0, 0, 0, 1, 0, 1, 1, 0, 1, 1, 0, 0, 0, ...   \n",
       "\n",
       "                                    numerical_tokens  \n",
       "0  [0, 2, 3, 0, 3, 4, 3, 0, 1, 2, 0, 2, 1, 0, 4, ...  \n",
       "1  [0, 2, 3, 0, 4, 0, 3, 0, 1, 2, 0, 2, 1, 0, 4, ...  \n",
       "2  [2, 0, 2, 2, 0, 0, 1, 1, 4, 4, 0, 2, 3, 0, 0, ...  \n",
       "3  [2, 2, 1, 2, 0, 2, 2, 0, 0, 1, 1, 4, 4, 0, 2, ...  \n",
       "4  [0, 2, 3, 0, 0, 4, 0, 3, 4, 2, 0, 4, 0, 0, 0, ...  "
      ]
     },
     "execution_count": 2,
     "metadata": {},
     "output_type": "execute_result"
    }
   ],
   "source": [
    "# Unpickle file\n",
    "with open('./Pickle_storage/test_data_tokenized_WA.pkl', 'rb') as handle:\n",
    "    data, embed_map = pickle.load(handle) # We stored the data and embedding map in one file\n",
    "\n",
    "# Visualize data\n",
    "len(pd.DataFrame(data)['labels'][8])\n",
    "pd.DataFrame(data).head()"
   ]
  },
  {
   "cell_type": "code",
   "execution_count": 3,
   "metadata": {},
   "outputs": [],
   "source": [
    "# Create embedding and batch data\n",
    "ds = C.dataset.Dataset(data, embed=embed_map)\n",
    "dl = torch.utils.data.DataLoader(ds, batch_size=1, pin_memory=True)  # The data loader\n",
    "\n",
    "# Train/Val Split\n",
    "train_data, val_data = torch.utils.data.random_split(\n",
    "    dl, [math.floor(len(dl)*0.8), math.floor(len(dl)*0.2)+1])"
   ]
  },
  {
   "cell_type": "code",
   "execution_count": 4,
   "metadata": {},
   "outputs": [],
   "source": [
    "# Sandbox\n",
    "#seq, label = next(iter(dl))\n",
    "#label"
   ]
  },
  {
   "cell_type": "markdown",
   "metadata": {},
   "source": [
    "## (2) Define Model"
   ]
  },
  {
   "cell_type": "code",
   "execution_count": 5,
   "metadata": {},
   "outputs": [],
   "source": [
    "class TransformerModel(torch.nn.Module):\n",
    "\n",
    "    def __init__(self, ntoken, ninp, nhead, nhid, nlayers, dropout=0.5):\n",
    "        super().__init__()\n",
    "        self.pos_encoder = PositionalEncoding(ninp, dropout)\n",
    "        encoder_layers = torch.nn.TransformerEncoderLayer(ninp, nhead, nhid, dropout)\n",
    "        self.transformer_encoder = torch.nn.TransformerEncoder(encoder_layers, nlayers)\n",
    "        self.encoder = torch.nn.Embedding(ntoken, ninp)\n",
    "        self.ninp = ninp\n",
    "        self.decoder = torch.nn.Linear(ninp, 2)\n",
    "        self.softmax = torch.nn.Softmax(dim=2)\n",
    "\n",
    "        self.init_weights()\n",
    "\n",
    "    @staticmethod\n",
    "    def generate_square_subsequent_mask(sz):\n",
    "        mask = (torch.triu(torch.ones(sz, sz)) == 1).transpose(0, 1)\n",
    "        mask = mask.float().masked_fill(mask == 0, float('-inf')).masked_fill(mask == 1, float(0.0))\n",
    "        return mask\n",
    "\n",
    "    def init_weights(self):\n",
    "        initrange = 0.1\n",
    "        self.encoder.weight.data.uniform_(-initrange, initrange)\n",
    "        self.decoder.bias.data.zero_()\n",
    "        self.decoder.weight.data.uniform_(-initrange, initrange)\n",
    "\n",
    "    def forward(self, src, src_mask):\n",
    "        src = self.encoder(src) * math.sqrt(self.ninp)\n",
    "        src = self.pos_encoder(src)\n",
    "        output = self.transformer_encoder(src, src_mask)\n",
    "        output = self.decoder(output)\n",
    "        output = self.softmax(output)\n",
    "        return output\n",
    "\n",
    "\n",
    "class PositionalEncoding(torch.nn.Module):\n",
    "\n",
    "    def __init__(self, d_model, dropout=0.1, max_len=5000):\n",
    "        super(PositionalEncoding, self).__init__()\n",
    "        self.dropout = torch.nn.Dropout(p=dropout)\n",
    "\n",
    "        pe = torch.zeros(max_len, d_model)\n",
    "        position = torch.arange(0, max_len, dtype=torch.float).unsqueeze(1)\n",
    "        div_term = torch.exp(torch.arange(0, d_model, 2).float() * (-math.log(10000.0) / d_model))\n",
    "        pe[:, 0::2] = torch.sin(position * div_term)\n",
    "        pe[:, 1::2] = torch.cos(position * div_term)\n",
    "        pe = pe.unsqueeze(0).transpose(0, 1)\n",
    "        self.register_buffer('pe', pe)\n",
    "\n",
    "    def forward(self, x):\n",
    "        x = x + self.pe[:x.size(0), :]\n",
    "        return self.dropout(x)"
   ]
  },
  {
   "cell_type": "markdown",
   "metadata": {},
   "source": [
    "## (3) Define Hyperparameters"
   ]
  },
  {
   "cell_type": "code",
   "execution_count": 6,
   "metadata": {},
   "outputs": [],
   "source": [
    "ntokens = len(embed_map) # the size of vocabulary\n",
    "emsize = 10 # embedding dimension\n",
    "nhid = 10 # the dimension of the feedforward network model in nn.TransformerEncoder\n",
    "nlayers = 2 # the number of nn.TransformerEncoderLayer in nn.TransformerEncoder\n",
    "nhead = 2 # the number of heads in the multiheadattention models\n",
    "dropout = 0.2 # the dropout value\n",
    "model = TransformerModel(ntokens, emsize, nhead, nhid, nlayers, dropout)"
   ]
  },
  {
   "cell_type": "code",
   "execution_count": 7,
   "metadata": {},
   "outputs": [],
   "source": [
    "#Sandbox: Figure out loss function\n",
    "#src_mask = model.generate_square_subsequent_mask(seq.size(0))\n",
    "#output = model(seq, src_mask).data.view(-1,2)\n",
    "#criterion(output,label.view(-1))"
   ]
  },
  {
   "cell_type": "markdown",
   "metadata": {},
   "source": [
    "## (4) Define Functions for Training and Validation Steps"
   ]
  },
  {
   "cell_type": "code",
   "execution_count": 8,
   "metadata": {},
   "outputs": [],
   "source": [
    "# Define train and validation functions\n",
    "criterion = torch.nn.CrossEntropyLoss()\n",
    "lr = 0.01 # learning rate\n",
    "optimizer = torch.optim.SGD(model.parameters(), lr=lr)\n",
    "\n",
    "def train(train_data):\n",
    "    model.train() # Turn on the train mode\n",
    "    total_loss = 0.\n",
    "    start_time = time.time()\n",
    "\n",
    "    for batch, data in enumerate(train_data.dataset):\n",
    "        seq, targets = data # embedded sequence, position labels\n",
    "        optimizer.zero_grad()\n",
    "        \n",
    "        src_mask = model.generate_square_subsequent_mask(seq.size(0))\n",
    "        output = model(seq, src_mask).view(-1,2)\n",
    "        loss = criterion(output, targets.view(-1))\n",
    "        loss.backward()\n",
    "        optimizer.step()\n",
    "\n",
    "        total_loss += loss.item()\n",
    "        log_interval = 200\n",
    "        if batch % log_interval == 0 and batch > 0:\n",
    "            cur_loss = total_loss / log_interval\n",
    "            elapsed = time.time() - start_time\n",
    "            print('| epoch {:3d} | {:5d} batches | '\n",
    "                  'ms/batch {:5.2f} | '\n",
    "                  'loss {:5.2f} | ppl {:8.2f}'.format(\n",
    "                    epoch, batch,\n",
    "                    elapsed * 1000 / log_interval,\n",
    "                    cur_loss, math.exp(cur_loss)))\n",
    "            total_loss = 0\n",
    "            start_time = time.time()\n",
    "\n",
    "def evaluate(eval_model, data_source):\n",
    "    eval_model.eval() # Turn on the evaluation mode\n",
    "    total_loss = 0.\n",
    "    \n",
    "    with torch.no_grad():\n",
    "        for val_batched in data_source.dataset:\n",
    "            seq, targets = val_batched\n",
    "            src_mask = model.generate_square_subsequent_mask(seq.size(0))\n",
    "            output = eval_model(seq, src_mask).view(-1,2)\n",
    "            # Calculate loss: Might need a better way\n",
    "            total_loss += criterion(output, targets.view(-1)).item()\n",
    "    return total_loss / (len(data_source) -1)"
   ]
  },
  {
   "cell_type": "markdown",
   "metadata": {},
   "source": [
    "## (5) Train Model"
   ]
  },
  {
   "cell_type": "code",
   "execution_count": 9,
   "metadata": {},
   "outputs": [
    {
     "name": "stdout",
     "output_type": "stream",
     "text": [
      "| epoch   1 |   200 batches | ms/batch 32.59 | loss  0.68 | ppl     1.97\n",
      "| epoch   1 |   400 batches | ms/batch 41.36 | loss  0.61 | ppl     1.84\n",
      "| epoch   1 |   600 batches | ms/batch 28.20 | loss  0.58 | ppl     1.79\n",
      "-----------------------------------------------------------------------------------------\n",
      "| end of epoch   1 | time: 32.88s | valid loss  2.81 \n",
      "--------------------------------------------------------------------------------\n",
      "| epoch   2 |   200 batches | ms/batch 37.33 | loss  0.56 | ppl     1.76\n",
      "| epoch   2 |   400 batches | ms/batch 26.64 | loss  0.56 | ppl     1.75\n",
      "| epoch   2 |   600 batches | ms/batch 24.41 | loss  0.56 | ppl     1.75\n",
      "-----------------------------------------------------------------------------------------\n",
      "| end of epoch   2 | time: 27.15s | valid loss  2.80 \n",
      "--------------------------------------------------------------------------------\n",
      "| epoch   3 |   200 batches | ms/batch 24.20 | loss  0.56 | ppl     1.75\n",
      "| epoch   3 |   400 batches | ms/batch 28.61 | loss  0.56 | ppl     1.75\n",
      "| epoch   3 |   600 batches | ms/batch 25.12 | loss  0.56 | ppl     1.75\n",
      "-----------------------------------------------------------------------------------------\n",
      "| end of epoch   3 | time: 25.11s | valid loss  2.79 \n",
      "--------------------------------------------------------------------------------\n"
     ]
    }
   ],
   "source": [
    "# Train model\n",
    "best_val_loss = float(0)\n",
    "epochs = 3 # The number of epochs\n",
    "best_model = None\n",
    "\n",
    "for epoch in range(1, epochs + 1):\n",
    "    epoch_start_time = time.time()\n",
    "    train(train_data)\n",
    "    val_loss = evaluate(model, val_data)\n",
    "    print('-' * 89)\n",
    "    print('| end of epoch {:3d} | time: {:5.2f}s | valid loss {:5.2f} '\n",
    "          .format(epoch, (time.time() - epoch_start_time),\n",
    "                                     val_loss))\n",
    "    print('-' * 80)\n",
    "\n",
    "    if val_loss > best_val_loss:\n",
    "        best_val_loss = val_loss\n",
    "        best_model = model"
   ]
  }
 ],
 "metadata": {
  "kernelspec": {
   "display_name": "Python 3",
   "language": "python",
   "name": "python3"
  },
  "language_info": {
   "codemirror_mode": {
    "name": "ipython",
    "version": 3
   },
   "file_extension": ".py",
   "mimetype": "text/x-python",
   "name": "python",
   "nbconvert_exporter": "python",
   "pygments_lexer": "ipython3",
   "version": "3.9.5"
  }
 },
 "nbformat": 4,
 "nbformat_minor": 4
}
