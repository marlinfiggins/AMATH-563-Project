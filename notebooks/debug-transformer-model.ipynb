{
 "cells": [
  {
   "cell_type": "markdown",
   "metadata": {},
   "source": [
    "## (0) Import Packages"
   ]
  },
  {
   "cell_type": "code",
   "execution_count": 1,
   "metadata": {},
   "outputs": [],
   "source": [
    "import sys\n",
    "sys.path.append('../src/') \n",
    "import numpy as np\n",
    "import torch\n",
    "import Core as C\n",
    "import math\n",
    "import pickle\n",
    "import pandas as pd\n",
    "import time\n",
    "import matplotlib.pyplot as plt"
   ]
  },
  {
   "cell_type": "code",
   "execution_count": 2,
   "metadata": {},
   "outputs": [],
   "source": [
    "%load_ext autoreload"
   ]
  },
  {
   "cell_type": "code",
   "execution_count": 3,
   "metadata": {},
   "outputs": [],
   "source": [
    "autoreload"
   ]
  },
  {
   "cell_type": "markdown",
   "metadata": {},
   "source": [
    "## (1) Load Data and Batch Data"
   ]
  },
  {
   "cell_type": "code",
   "execution_count": 26,
   "metadata": {},
   "outputs": [
    {
     "data": {
      "text/plain": [
       "Index(['accession_id', 'aligned_seqs', 'scores', 'labels', 'numerical_tokens'], dtype='object')"
      ]
     },
     "execution_count": 26,
     "metadata": {},
     "output_type": "execute_result"
    }
   ],
   "source": [
    "# Unpickle file\n",
    "with open('./Pickle_storage/test_data_tokenized_WA.pkl', 'rb') as handle:\n",
    "    data, embed_map = pickle.load(handle) # We stored the data and embedding map in one file\n",
    "with open('./Pickle_storage/train_data_tokenized.pkl', 'rb') as handle:\n",
    "    data_train, embed_map_train = pickle.load(handle) # We stored the data and embedding map in one file\n",
    "\n",
    "# Visualize data\n",
    "len(pd.DataFrame(data)['labels'][8])\n",
    "pd.DataFrame(data).keys()"
   ]
  },
  {
   "cell_type": "code",
   "execution_count": 5,
   "metadata": {},
   "outputs": [
    {
     "data": {
      "text/html": [
       "<div>\n",
       "<style scoped>\n",
       "    .dataframe tbody tr th:only-of-type {\n",
       "        vertical-align: middle;\n",
       "    }\n",
       "\n",
       "    .dataframe tbody tr th {\n",
       "        vertical-align: top;\n",
       "    }\n",
       "\n",
       "    .dataframe thead th {\n",
       "        text-align: right;\n",
       "    }\n",
       "</style>\n",
       "<table border=\"1\" class=\"dataframe\">\n",
       "  <thead>\n",
       "    <tr style=\"text-align: right;\">\n",
       "      <th></th>\n",
       "      <th>accession_id</th>\n",
       "      <th>aligned_seqs</th>\n",
       "      <th>scores</th>\n",
       "      <th>labels</th>\n",
       "      <th>numerical_tokens</th>\n",
       "    </tr>\n",
       "  </thead>\n",
       "  <tbody>\n",
       "    <tr>\n",
       "      <th>0</th>\n",
       "      <td>EU100698</td>\n",
       "      <td>ATGAG-GACTATCA-T--TGCTTTGAGCTA-CATT-CTA-T-GTCT...</td>\n",
       "      <td>1169.0</td>\n",
       "      <td>[0, 0, 0, 1, 0, 1, 0, 0, 1, 1, 0, 1, 1, 0, 1, ...</td>\n",
       "      <td>[0, 2, 3, 0, 3, 4, 3, 0, 1, 2, 0, 2, 1, 0, 4, ...</td>\n",
       "    </tr>\n",
       "    <tr>\n",
       "      <th>1</th>\n",
       "      <td>EU199367</td>\n",
       "      <td>ATGA-AGACTATCA-T--TGCTTTGAGCTA-CATT-CTA-T-GTCT...</td>\n",
       "      <td>1169.0</td>\n",
       "      <td>[0, 0, 0, 1, 1, 0, 0, 0, 1, 1, 0, 1, 1, 0, 1, ...</td>\n",
       "      <td>[0, 2, 3, 0, 4, 0, 3, 0, 1, 2, 0, 2, 1, 0, 4, ...</td>\n",
       "    </tr>\n",
       "    <tr>\n",
       "      <th>2</th>\n",
       "      <td>CY026603</td>\n",
       "      <td>TATTAACC--ATGAAGACTATCAT-TGCTTTGAGCTA-CATT-CTA...</td>\n",
       "      <td>1172.0</td>\n",
       "      <td>[1, 0, 1, 0, 1, 1, 1, 1, 1, 1, 0, 1, 0, 0, 0, ...</td>\n",
       "      <td>[2, 0, 2, 2, 0, 0, 1, 1, 4, 4, 0, 2, 3, 0, 0, ...</td>\n",
       "    </tr>\n",
       "    <tr>\n",
       "      <th>3</th>\n",
       "      <td>CY026771</td>\n",
       "      <td>TTCTATTAACC--ATGAAGACTATCAT-TGCTTTGAGCTA-CATT-...</td>\n",
       "      <td>1171.0</td>\n",
       "      <td>[1, 1, 1, 1, 0, 1, 0, 1, 1, 1, 1, 1, 1, 0, 1, ...</td>\n",
       "      <td>[2, 2, 1, 2, 0, 2, 2, 0, 0, 1, 1, 4, 4, 0, 2, ...</td>\n",
       "    </tr>\n",
       "    <tr>\n",
       "      <th>4</th>\n",
       "      <td>EU516081</td>\n",
       "      <td>ATGAA-AG-TA-AAACTAC-TGGTCC-T--G-T-T-AT-GC-A-CA...</td>\n",
       "      <td>1171.0</td>\n",
       "      <td>[0, 0, 0, 0, 0, 1, 0, 1, 1, 0, 1, 1, 0, 0, 0, ...</td>\n",
       "      <td>[0, 2, 3, 0, 0, 4, 0, 3, 4, 2, 0, 4, 0, 0, 0, ...</td>\n",
       "    </tr>\n",
       "  </tbody>\n",
       "</table>\n",
       "</div>"
      ],
      "text/plain": [
       "  accession_id                                       aligned_seqs  scores  \\\n",
       "0     EU100698  ATGAG-GACTATCA-T--TGCTTTGAGCTA-CATT-CTA-T-GTCT...  1169.0   \n",
       "1     EU199367  ATGA-AGACTATCA-T--TGCTTTGAGCTA-CATT-CTA-T-GTCT...  1169.0   \n",
       "2     CY026603  TATTAACC--ATGAAGACTATCAT-TGCTTTGAGCTA-CATT-CTA...  1172.0   \n",
       "3     CY026771  TTCTATTAACC--ATGAAGACTATCAT-TGCTTTGAGCTA-CATT-...  1171.0   \n",
       "4     EU516081  ATGAA-AG-TA-AAACTAC-TGGTCC-T--G-T-T-AT-GC-A-CA...  1171.0   \n",
       "\n",
       "                                              labels  \\\n",
       "0  [0, 0, 0, 1, 0, 1, 0, 0, 1, 1, 0, 1, 1, 0, 1, ...   \n",
       "1  [0, 0, 0, 1, 1, 0, 0, 0, 1, 1, 0, 1, 1, 0, 1, ...   \n",
       "2  [1, 0, 1, 0, 1, 1, 1, 1, 1, 1, 0, 1, 0, 0, 0, ...   \n",
       "3  [1, 1, 1, 1, 0, 1, 0, 1, 1, 1, 1, 1, 1, 0, 1, ...   \n",
       "4  [0, 0, 0, 0, 0, 1, 0, 1, 1, 0, 1, 1, 0, 0, 0, ...   \n",
       "\n",
       "                                    numerical_tokens  \n",
       "0  [0, 2, 3, 0, 3, 4, 3, 0, 1, 2, 0, 2, 1, 0, 4, ...  \n",
       "1  [0, 2, 3, 0, 4, 0, 3, 0, 1, 2, 0, 2, 1, 0, 4, ...  \n",
       "2  [2, 0, 2, 2, 0, 0, 1, 1, 4, 4, 0, 2, 3, 0, 0, ...  \n",
       "3  [2, 2, 1, 2, 0, 2, 2, 0, 0, 1, 1, 4, 4, 0, 2, ...  \n",
       "4  [0, 2, 3, 0, 0, 4, 0, 3, 4, 2, 0, 4, 0, 0, 0, ...  "
      ]
     },
     "execution_count": 5,
     "metadata": {},
     "output_type": "execute_result"
    }
   ],
   "source": [
    "pd.DataFrame(data).head()"
   ]
  },
  {
   "cell_type": "code",
   "execution_count": 27,
   "metadata": {},
   "outputs": [
    {
     "name": "stdout",
     "output_type": "stream",
     "text": [
      "CPU times: user 21.2 s, sys: 1.18 s, total: 22.3 s\n",
      "Wall time: 22.3 s\n"
     ]
    }
   ],
   "source": [
    "%%time\n",
    "# Create embedding and batch data\n",
    "ds_test = C.dataset.Dataset(data, embed=embed_map)\n",
    "#ds_test.drop_dashes()\n",
    "ds_test.make_subseqs(length=200)\n",
    "dl_test = torch.utils.data.DataLoader(ds_test, batch_size=256, pin_memory=True)  # The data loader\n",
    "\n",
    "ds_train = C.dataset.Dataset(data_train, embed=embed_map)\n",
    "#ds_train.drop_dashes()\n",
    "ds_train.make_subseqs(length=200)\n",
    "dl_train = torch.utils.data.DataLoader(ds_train, batch_size=256, pin_memory=True)  # The data loader\n"
   ]
  },
  {
   "cell_type": "code",
   "execution_count": 28,
   "metadata": {},
   "outputs": [
    {
     "data": {
      "text/plain": [
       "4163"
      ]
     },
     "execution_count": 28,
     "metadata": {},
     "output_type": "execute_result"
    }
   ],
   "source": [
    "sum([math.floor(len(dl_train)*0.8), math.floor(len(dl_train)*0.2)])"
   ]
  },
  {
   "cell_type": "code",
   "execution_count": 29,
   "metadata": {},
   "outputs": [
    {
     "data": {
      "text/plain": [
       "1065828"
      ]
     },
     "execution_count": 29,
     "metadata": {},
     "output_type": "execute_result"
    }
   ],
   "source": [
    "len(ds_train.subseq_data)"
   ]
  },
  {
   "cell_type": "code",
   "execution_count": 30,
   "metadata": {},
   "outputs": [],
   "source": [
    "# Train/Val Split\n",
    "train_data, val_data = torch.utils.data.random_split(\n",
    "    dl_train, [math.floor(len(dl_train)*0.9), math.floor(len(dl_train)*0.1)+1])"
   ]
  },
  {
   "cell_type": "markdown",
   "metadata": {},
   "source": [
    "## (2) Define Model"
   ]
  },
  {
   "cell_type": "code",
   "execution_count": 31,
   "metadata": {},
   "outputs": [],
   "source": [
    "class TransformerModel(torch.nn.Module):\n",
    "\n",
    "    def __init__(self, ntoken, ninp, nhead, nhid, nlayers, dropout=0.5):\n",
    "        super().__init__()\n",
    "        self.pos_encoder = PositionalEncoding(ninp, dropout)\n",
    "        encoder_layers = torch.nn.TransformerEncoderLayer(ninp, nhead, nhid, dropout)\n",
    "        self.transformer_encoder = torch.nn.TransformerEncoder(encoder_layers, nlayers)\n",
    "        self.encoder = torch.nn.Embedding(ntoken, ninp)\n",
    "        self.ninp = ninp\n",
    "        self.decoder = torch.nn.Linear(ninp, 2)\n",
    "        self.softmax = torch.nn.Softmax(dim=2)\n",
    "\n",
    "        self.init_weights()\n",
    "\n",
    "    @staticmethod\n",
    "    def generate_square_subsequent_mask(sz):\n",
    "        mask = (torch.triu(torch.ones(sz, sz)) == 1).transpose(0, 1)\n",
    "        mask = mask.float().masked_fill(mask == 0, float('-inf')).masked_fill(mask == 1, float(0.0))\n",
    "        return mask\n",
    "\n",
    "    def init_weights(self):\n",
    "        initrange = 0.1\n",
    "        self.encoder.weight.data.uniform_(-initrange, initrange)\n",
    "        self.decoder.bias.data.zero_()\n",
    "        self.decoder.weight.data.uniform_(-initrange, initrange)\n",
    "\n",
    "    def forward(self, src, src_mask):\n",
    "        src = self.encoder(src) * math.sqrt(self.ninp)\n",
    "        src = self.pos_encoder(src)\n",
    "        output = self.transformer_encoder(src, src_mask)\n",
    "        output = self.decoder(output)\n",
    "        output = self.softmax(output)\n",
    "        return output\n",
    "\n",
    "\n",
    "class PositionalEncoding(torch.nn.Module):\n",
    "\n",
    "    def __init__(self, d_model, dropout=0.1, max_len=5000):\n",
    "        super(PositionalEncoding, self).__init__()\n",
    "        self.dropout = torch.nn.Dropout(p=dropout)\n",
    "\n",
    "        pe = torch.zeros(max_len, d_model)\n",
    "        position = torch.arange(0, max_len, dtype=torch.float).unsqueeze(1)\n",
    "        div_term = torch.exp(torch.arange(0, d_model, 2).float() * (-math.log(10000.0) / d_model))\n",
    "        pe[:, 0::2] = torch.sin(position * div_term)\n",
    "        pe[:, 1::2] = torch.cos(position * div_term)\n",
    "        pe = pe.unsqueeze(0).transpose(0, 1)\n",
    "        self.register_buffer('pe', pe)\n",
    "\n",
    "    def forward(self, x):\n",
    "        x = x + self.pe[:x.size(0), :]\n",
    "        return self.dropout(x)"
   ]
  },
  {
   "cell_type": "markdown",
   "metadata": {},
   "source": [
    "## (3) Define Hyperparameters and setup logging"
   ]
  },
  {
   "cell_type": "code",
   "execution_count": 32,
   "metadata": {},
   "outputs": [],
   "source": [
    "from torch.utils.tensorboard import SummaryWriter"
   ]
  },
  {
   "cell_type": "code",
   "execution_count": 33,
   "metadata": {},
   "outputs": [],
   "source": [
    "ntokens = len(embed_map) # the size of vocabulary\n",
    "emsize = 4 # embedding dimension\n",
    "nhid = 10 # the dimension of the feedforward network model in nn.TransformerEncoder\n",
    "nlayers = 3 # the number of nn.TransformerEncoderLayer in nn.TransformerEncoder\n",
    "nhead = 4 # the number of heads in the multiheadattention models\n",
    "dropout = 0.2 # the dropout value\n",
    "model = TransformerModel(ntokens, emsize, nhead, nhid, nlayers, dropout).to('cuda')\n",
    "writer = SummaryWriter(log_dir='./TBlogs/Test1', flush_secs=60)\n",
    "cur_batch = 0"
   ]
  },
  {
   "cell_type": "code",
   "execution_count": 34,
   "metadata": {},
   "outputs": [
    {
     "name": "stdout",
     "output_type": "stream",
     "text": [
      "mkdir: cannot create directory ‘./TBlogs/Test1’: File exists\r\n"
     ]
    }
   ],
   "source": [
    "!mkdir ./TBlogs/Test1"
   ]
  },
  {
   "cell_type": "code",
   "execution_count": 35,
   "metadata": {},
   "outputs": [],
   "source": [
    "#Sandbox: Figure out loss function\n",
    "#src_mask = model.generate_square_subsequent_mask(seq.size(0))\n",
    "#output = model(seq, src_mask).data.view(-1,2)\n",
    "#criterion(output,label.view(-1))"
   ]
  },
  {
   "cell_type": "markdown",
   "metadata": {},
   "source": [
    "## (4) Define Functions for Training and Validation Steps"
   ]
  },
  {
   "cell_type": "code",
   "execution_count": 36,
   "metadata": {},
   "outputs": [],
   "source": [
    "# Define train and validation functions\n",
    "criterion = torch.nn.CrossEntropyLoss()\n",
    "lr = 1e-4 # learning rate\n",
    "#optimizer = torch.optim.SGD(model.parameters(), lr=lr)\n",
    "optimizer = torch.optim.Adam(model.parameters(), lr=lr, betas=(0.9, 0.8))\n",
    "#scheduler = torch.optim.lr_scheduler.MultiplicativeLR(optimizer, lambda x: 0.99, last_epoch=100)\n",
    "scheduler = torch.optim.lr_scheduler.ReduceLROnPlateau(optimizer=optimizer, threshold=0.0001, \n",
    "                                                       patience=30, cooldown=100, min_lr=1e-8)\n",
    "def train(train_data, epoch_var):\n",
    "    model.train() # Turn on the train mode\n",
    "    total_loss = 0.\n",
    "    start_time = time.time()\n",
    "    cur_loss_list = []\n",
    "    cur_batch = len(train_data.dataset) * epoch_var\n",
    "    for batch, data in enumerate(train_data.dataset):\n",
    "        seq, targets = data # embedded sequence, position labels\n",
    "        #print(seq.shape)\n",
    "        optimizer.zero_grad()\n",
    "        seq = seq.cuda()\n",
    "        targets = targets.cuda()\n",
    "        src_mask = model.generate_square_subsequent_mask(seq.size(0)).cuda()\n",
    "        output = model(seq, src_mask).view(-1,2)\n",
    "        loss = criterion(output, targets.view(-1))\n",
    "        loss.backward()\n",
    "        optimizer.step()\n",
    "\n",
    "        total_loss += loss.item()\n",
    "        log_interval = 50\n",
    "        if batch % log_interval == 0 and batch > 0:\n",
    "            cur_loss = total_loss / log_interval\n",
    "            #elapsed = time.time() - start_time\n",
    "            #print('| epoch {:3d} | {:5d} batches | '\n",
    "            #      'ms/batch {:5.2f} | '\n",
    "            #      'loss {:5.4f} | ppl {:8.4f}'.format(\n",
    "            #        epoch, batch,\n",
    "            #        elapsed * 1000 / log_interval,\n",
    "            #        cur_loss, math.exp(cur_loss)))\n",
    "            total_loss = 0\n",
    "            #start_time = time.time()\n",
    "            cur_loss_list.append(cur_loss)\n",
    "            for pid, parameter in enumerate(model.parameters()):\n",
    "                writer.add_histogram(f'Weights/{pid}', parameter.grad, global_step=cur_batch)\n",
    "            writer.add_scalar('Loss/Train', cur_loss, cur_batch)\n",
    "            scheduler.step(cur_loss)\n",
    "        cur_batch += 1\n",
    "    return cur_loss_list\n",
    "\n",
    "def evaluate(eval_model, data_source):\n",
    "    eval_model.eval() # Turn on the evaluation mode\n",
    "    total_loss = 0.\n",
    "    \n",
    "    with torch.no_grad():\n",
    "        for val_batched in data_source.dataset:\n",
    "            seq, targets = val_batched\n",
    "            seq = seq.cuda()\n",
    "            targets = targets.cuda()\n",
    "            src_mask = model.generate_square_subsequent_mask(seq.size(0)).cuda()\n",
    "            output = eval_model(seq, src_mask).cuda().view(-1,2)\n",
    "            # Calculate loss: Might need a better way\n",
    "            total_loss += criterion(output, targets.view(-1)).item()\n",
    "    return total_loss / (len(data_source) -1)"
   ]
  },
  {
   "cell_type": "markdown",
   "metadata": {},
   "source": [
    "## (5) Train Model"
   ]
  },
  {
   "cell_type": "code",
   "execution_count": null,
   "metadata": {
    "scrolled": false
   },
   "outputs": [
    {
     "name": "stdout",
     "output_type": "stream",
     "text": [
      "-----------------------------------------------------------------------------------------\n",
      "| end of epoch   1 | time: 248.66757s | valid loss 5.54663 \n",
      "--------------------------------------------------------------------------------\n",
      "-----------------------------------------------------------------------------------------\n",
      "| end of epoch   2 | time: 249.18204s | valid loss 5.52466 \n",
      "--------------------------------------------------------------------------------\n",
      "-----------------------------------------------------------------------------------------\n",
      "| end of epoch   3 | time: 247.98830s | valid loss 5.52128 \n",
      "--------------------------------------------------------------------------------\n",
      "-----------------------------------------------------------------------------------------\n",
      "| end of epoch   4 | time: 248.08887s | valid loss 5.52086 \n",
      "--------------------------------------------------------------------------------\n",
      "-----------------------------------------------------------------------------------------\n",
      "| end of epoch   5 | time: 248.19201s | valid loss 5.52075 \n",
      "--------------------------------------------------------------------------------\n",
      "-----------------------------------------------------------------------------------------\n",
      "| end of epoch   6 | time: 248.45433s | valid loss 5.52073 \n",
      "--------------------------------------------------------------------------------\n",
      "-----------------------------------------------------------------------------------------\n",
      "| end of epoch   7 | time: 248.53782s | valid loss 5.52078 \n",
      "--------------------------------------------------------------------------------\n",
      "-----------------------------------------------------------------------------------------\n",
      "| end of epoch   8 | time: 247.76938s | valid loss 5.52078 \n",
      "--------------------------------------------------------------------------------\n",
      "-----------------------------------------------------------------------------------------\n",
      "| end of epoch   9 | time: 248.53060s | valid loss 5.52077 \n",
      "--------------------------------------------------------------------------------\n",
      "-----------------------------------------------------------------------------------------\n",
      "| end of epoch  10 | time: 247.11153s | valid loss 5.52077 \n",
      "--------------------------------------------------------------------------------\n",
      "-----------------------------------------------------------------------------------------\n",
      "| end of epoch  11 | time: 248.04880s | valid loss 5.52077 \n",
      "--------------------------------------------------------------------------------\n",
      "-----------------------------------------------------------------------------------------\n",
      "| end of epoch  12 | time: 248.21587s | valid loss 5.52077 \n",
      "--------------------------------------------------------------------------------\n",
      "-----------------------------------------------------------------------------------------\n",
      "| end of epoch  13 | time: 249.55825s | valid loss 5.52077 \n",
      "--------------------------------------------------------------------------------\n",
      "-----------------------------------------------------------------------------------------\n",
      "| end of epoch  14 | time: 249.73246s | valid loss 5.52077 \n",
      "--------------------------------------------------------------------------------\n",
      "-----------------------------------------------------------------------------------------\n",
      "| end of epoch  15 | time: 248.21458s | valid loss 5.52076 \n",
      "--------------------------------------------------------------------------------\n",
      "-----------------------------------------------------------------------------------------\n",
      "| end of epoch  16 | time: 247.70159s | valid loss 5.52076 \n",
      "--------------------------------------------------------------------------------\n",
      "-----------------------------------------------------------------------------------------\n",
      "| end of epoch  17 | time: 247.94272s | valid loss 5.52076 \n",
      "--------------------------------------------------------------------------------\n",
      "-----------------------------------------------------------------------------------------\n",
      "| end of epoch  18 | time: 247.97357s | valid loss 5.52076 \n",
      "--------------------------------------------------------------------------------\n",
      "-----------------------------------------------------------------------------------------\n",
      "| end of epoch  19 | time: 248.79565s | valid loss 5.52076 \n",
      "--------------------------------------------------------------------------------\n",
      "-----------------------------------------------------------------------------------------\n",
      "| end of epoch  20 | time: 248.09744s | valid loss 5.52076 \n",
      "--------------------------------------------------------------------------------\n",
      "-----------------------------------------------------------------------------------------\n",
      "| end of epoch  21 | time: 247.63720s | valid loss 5.52076 \n",
      "--------------------------------------------------------------------------------\n",
      "-----------------------------------------------------------------------------------------\n",
      "| end of epoch  22 | time: 247.77420s | valid loss 5.52075 \n",
      "--------------------------------------------------------------------------------\n",
      "-----------------------------------------------------------------------------------------\n",
      "| end of epoch  23 | time: 248.40714s | valid loss 5.52075 \n",
      "--------------------------------------------------------------------------------\n",
      "-----------------------------------------------------------------------------------------\n",
      "| end of epoch  24 | time: 246.58603s | valid loss 5.52075 \n",
      "--------------------------------------------------------------------------------\n",
      "-----------------------------------------------------------------------------------------\n",
      "| end of epoch  25 | time: 247.23785s | valid loss 5.52075 \n",
      "--------------------------------------------------------------------------------\n",
      "-----------------------------------------------------------------------------------------\n",
      "| end of epoch  26 | time: 248.20614s | valid loss 5.52075 \n",
      "--------------------------------------------------------------------------------\n",
      "-----------------------------------------------------------------------------------------\n",
      "| end of epoch  27 | time: 247.55114s | valid loss 5.52075 \n",
      "--------------------------------------------------------------------------------\n",
      "-----------------------------------------------------------------------------------------\n",
      "| end of epoch  28 | time: 247.25080s | valid loss 5.52075 \n",
      "--------------------------------------------------------------------------------\n",
      "-----------------------------------------------------------------------------------------\n",
      "| end of epoch  29 | time: 248.76718s | valid loss 5.52074 \n",
      "--------------------------------------------------------------------------------\n",
      "-----------------------------------------------------------------------------------------\n",
      "| end of epoch  30 | time: 248.56803s | valid loss 5.52074 \n",
      "--------------------------------------------------------------------------------\n",
      "-----------------------------------------------------------------------------------------\n",
      "| end of epoch  31 | time: 247.63047s | valid loss 5.52074 \n",
      "--------------------------------------------------------------------------------\n",
      "-----------------------------------------------------------------------------------------\n",
      "| end of epoch  32 | time: 247.60392s | valid loss 5.52074 \n",
      "--------------------------------------------------------------------------------\n",
      "-----------------------------------------------------------------------------------------\n",
      "| end of epoch  33 | time: 247.58685s | valid loss 5.52074 \n",
      "--------------------------------------------------------------------------------\n",
      "-----------------------------------------------------------------------------------------\n",
      "| end of epoch  34 | time: 248.95514s | valid loss 5.52074 \n",
      "--------------------------------------------------------------------------------\n",
      "-----------------------------------------------------------------------------------------\n",
      "| end of epoch  35 | time: 248.49844s | valid loss 5.52074 \n",
      "--------------------------------------------------------------------------------\n",
      "-----------------------------------------------------------------------------------------\n",
      "| end of epoch  36 | time: 247.58771s | valid loss 5.52073 \n",
      "--------------------------------------------------------------------------------\n"
     ]
    },
    {
     "name": "stdout",
     "output_type": "stream",
     "text": [
      "-----------------------------------------------------------------------------------------\n",
      "| end of epoch  37 | time: 248.38199s | valid loss 5.52073 \n",
      "--------------------------------------------------------------------------------\n",
      "-----------------------------------------------------------------------------------------\n",
      "| end of epoch  38 | time: 247.89317s | valid loss 5.52073 \n",
      "--------------------------------------------------------------------------------\n",
      "-----------------------------------------------------------------------------------------\n",
      "| end of epoch  39 | time: 248.44257s | valid loss 5.52073 \n",
      "--------------------------------------------------------------------------------\n",
      "-----------------------------------------------------------------------------------------\n",
      "| end of epoch  40 | time: 249.08768s | valid loss 5.52073 \n",
      "--------------------------------------------------------------------------------\n",
      "-----------------------------------------------------------------------------------------\n",
      "| end of epoch  41 | time: 248.43362s | valid loss 5.52073 \n",
      "--------------------------------------------------------------------------------\n",
      "-----------------------------------------------------------------------------------------\n",
      "| end of epoch  42 | time: 248.80375s | valid loss 5.52073 \n",
      "--------------------------------------------------------------------------------\n",
      "-----------------------------------------------------------------------------------------\n",
      "| end of epoch  43 | time: 247.27618s | valid loss 5.52073 \n",
      "--------------------------------------------------------------------------------\n",
      "-----------------------------------------------------------------------------------------\n",
      "| end of epoch  44 | time: 248.43867s | valid loss 5.52072 \n",
      "--------------------------------------------------------------------------------\n",
      "-----------------------------------------------------------------------------------------\n",
      "| end of epoch  45 | time: 248.38063s | valid loss 5.52072 \n",
      "--------------------------------------------------------------------------------\n",
      "-----------------------------------------------------------------------------------------\n",
      "| end of epoch  46 | time: 249.34997s | valid loss 5.52072 \n",
      "--------------------------------------------------------------------------------\n",
      "-----------------------------------------------------------------------------------------\n",
      "| end of epoch  47 | time: 248.18769s | valid loss 5.52072 \n",
      "--------------------------------------------------------------------------------\n",
      "-----------------------------------------------------------------------------------------\n",
      "| end of epoch  48 | time: 247.98446s | valid loss 5.52072 \n",
      "--------------------------------------------------------------------------------\n",
      "-----------------------------------------------------------------------------------------\n",
      "| end of epoch  49 | time: 249.76021s | valid loss 5.52072 \n",
      "--------------------------------------------------------------------------------\n",
      "-----------------------------------------------------------------------------------------\n",
      "| end of epoch  50 | time: 248.57137s | valid loss 5.52072 \n",
      "--------------------------------------------------------------------------------\n",
      "-----------------------------------------------------------------------------------------\n",
      "| end of epoch  51 | time: 247.78699s | valid loss 5.52071 \n",
      "--------------------------------------------------------------------------------\n",
      "-----------------------------------------------------------------------------------------\n",
      "| end of epoch  52 | time: 248.09047s | valid loss 5.52071 \n",
      "--------------------------------------------------------------------------------\n",
      "-----------------------------------------------------------------------------------------\n",
      "| end of epoch  53 | time: 247.66443s | valid loss 5.52071 \n",
      "--------------------------------------------------------------------------------\n",
      "-----------------------------------------------------------------------------------------\n",
      "| end of epoch  54 | time: 248.86065s | valid loss 5.52071 \n",
      "--------------------------------------------------------------------------------\n",
      "-----------------------------------------------------------------------------------------\n",
      "| end of epoch  55 | time: 247.57218s | valid loss 5.52071 \n",
      "--------------------------------------------------------------------------------\n",
      "-----------------------------------------------------------------------------------------\n",
      "| end of epoch  56 | time: 248.56675s | valid loss 5.52071 \n",
      "--------------------------------------------------------------------------------\n",
      "-----------------------------------------------------------------------------------------\n",
      "| end of epoch  57 | time: 248.71635s | valid loss 5.52071 \n",
      "--------------------------------------------------------------------------------\n",
      "-----------------------------------------------------------------------------------------\n",
      "| end of epoch  58 | time: 247.92405s | valid loss 5.52070 \n",
      "--------------------------------------------------------------------------------\n",
      "-----------------------------------------------------------------------------------------\n",
      "| end of epoch  59 | time: 247.85156s | valid loss 5.52070 \n",
      "--------------------------------------------------------------------------------\n",
      "-----------------------------------------------------------------------------------------\n",
      "| end of epoch  60 | time: 248.13188s | valid loss 5.52070 \n",
      "--------------------------------------------------------------------------------\n",
      "-----------------------------------------------------------------------------------------\n",
      "| end of epoch  61 | time: 247.74384s | valid loss 5.52070 \n",
      "--------------------------------------------------------------------------------\n",
      "-----------------------------------------------------------------------------------------\n",
      "| end of epoch  62 | time: 247.88086s | valid loss 5.52070 \n",
      "--------------------------------------------------------------------------------\n",
      "-----------------------------------------------------------------------------------------\n",
      "| end of epoch  63 | time: 248.92517s | valid loss 5.52070 \n",
      "--------------------------------------------------------------------------------\n",
      "-----------------------------------------------------------------------------------------\n",
      "| end of epoch  64 | time: 247.59335s | valid loss 5.52070 \n",
      "--------------------------------------------------------------------------------\n",
      "-----------------------------------------------------------------------------------------\n",
      "| end of epoch  65 | time: 247.43247s | valid loss 5.52070 \n",
      "--------------------------------------------------------------------------------\n",
      "-----------------------------------------------------------------------------------------\n",
      "| end of epoch  66 | time: 246.76559s | valid loss 5.52069 \n",
      "--------------------------------------------------------------------------------\n",
      "-----------------------------------------------------------------------------------------\n",
      "| end of epoch  67 | time: 247.59261s | valid loss 5.52069 \n",
      "--------------------------------------------------------------------------------\n",
      "-----------------------------------------------------------------------------------------\n",
      "| end of epoch  68 | time: 249.50563s | valid loss 5.52069 \n",
      "--------------------------------------------------------------------------------\n",
      "-----------------------------------------------------------------------------------------\n",
      "| end of epoch  69 | time: 248.86341s | valid loss 5.52069 \n",
      "--------------------------------------------------------------------------------\n",
      "-----------------------------------------------------------------------------------------\n",
      "| end of epoch  70 | time: 247.90823s | valid loss 5.52069 \n",
      "--------------------------------------------------------------------------------\n",
      "-----------------------------------------------------------------------------------------\n",
      "| end of epoch  71 | time: 248.26010s | valid loss 5.52069 \n",
      "--------------------------------------------------------------------------------\n",
      "-----------------------------------------------------------------------------------------\n",
      "| end of epoch  72 | time: 247.95698s | valid loss 5.52069 \n",
      "--------------------------------------------------------------------------------\n"
     ]
    },
    {
     "name": "stdout",
     "output_type": "stream",
     "text": [
      "-----------------------------------------------------------------------------------------\n",
      "| end of epoch  73 | time: 248.42454s | valid loss 5.52069 \n",
      "--------------------------------------------------------------------------------\n",
      "-----------------------------------------------------------------------------------------\n",
      "| end of epoch  74 | time: 248.31344s | valid loss 5.52068 \n",
      "--------------------------------------------------------------------------------\n",
      "-----------------------------------------------------------------------------------------\n",
      "| end of epoch  75 | time: 248.82710s | valid loss 5.52068 \n",
      "--------------------------------------------------------------------------------\n",
      "-----------------------------------------------------------------------------------------\n",
      "| end of epoch  76 | time: 246.80403s | valid loss 5.52068 \n",
      "--------------------------------------------------------------------------------\n",
      "-----------------------------------------------------------------------------------------\n",
      "| end of epoch  77 | time: 248.57813s | valid loss 5.52068 \n",
      "--------------------------------------------------------------------------------\n",
      "-----------------------------------------------------------------------------------------\n",
      "| end of epoch  78 | time: 249.02761s | valid loss 5.52068 \n",
      "--------------------------------------------------------------------------------\n",
      "-----------------------------------------------------------------------------------------\n",
      "| end of epoch  79 | time: 247.79345s | valid loss 5.52068 \n",
      "--------------------------------------------------------------------------------\n",
      "-----------------------------------------------------------------------------------------\n",
      "| end of epoch  80 | time: 247.20635s | valid loss 5.52068 \n",
      "--------------------------------------------------------------------------------\n",
      "-----------------------------------------------------------------------------------------\n",
      "| end of epoch  81 | time: 246.91746s | valid loss 5.52068 \n",
      "--------------------------------------------------------------------------------\n",
      "-----------------------------------------------------------------------------------------\n",
      "| end of epoch  82 | time: 248.24112s | valid loss 5.52067 \n",
      "--------------------------------------------------------------------------------\n",
      "-----------------------------------------------------------------------------------------\n",
      "| end of epoch  83 | time: 249.54592s | valid loss 5.52067 \n",
      "--------------------------------------------------------------------------------\n",
      "-----------------------------------------------------------------------------------------\n",
      "| end of epoch  84 | time: 247.37106s | valid loss 5.52067 \n",
      "--------------------------------------------------------------------------------\n",
      "-----------------------------------------------------------------------------------------\n",
      "| end of epoch  85 | time: 247.53791s | valid loss 5.52067 \n",
      "--------------------------------------------------------------------------------\n"
     ]
    }
   ],
   "source": [
    "%%time\n",
    "# Train model\n",
    "best_val_loss = float(0)\n",
    "epochs = 300 # The number of epochs\n",
    "best_model = None\n",
    "big_loss_list = []\n",
    "for epoch in range(1, epochs + 1):\n",
    "    epoch_start_time = time.time()\n",
    "    big_loss_list.append(train(train_data, epoch-1))  # returns performance metrics\n",
    "    val_loss = evaluate(model, val_data)\n",
    "    print('-' * 89)\n",
    "    print('| end of epoch {:3d} | time: {:5.5f}s | valid loss {:5.5f} '\n",
    "          .format(epoch, (time.time() - epoch_start_time),\n",
    "                                     val_loss))\n",
    "    print('-' * 80)\n",
    "    writer.add_scalar('Loss/Val', val_loss, epoch)\n",
    "    if val_loss > best_val_loss:\n",
    "        best_val_loss = val_loss\n",
    "        best_model = model\n",
    "    if epoch % 1 == 0:\n",
    "        torch.save({\n",
    "            'epoch': epoch,\n",
    "            'model_state_dict': model.state_dict(),\n",
    "            'optimizer_state_dict': optimizer.state_dict(),\n",
    "            'loss': val_loss,\n",
    "            }, f'./ModelSaves/Save-{epoch}-v2.pt')\n",
    "writer.close()"
   ]
  },
  {
   "cell_type": "code",
   "execution_count": 19,
   "metadata": {},
   "outputs": [],
   "source": [
    "writer.close()"
   ]
  },
  {
   "cell_type": "code",
   "execution_count": 17,
   "metadata": {},
   "outputs": [
    {
     "data": {
      "text/plain": [
       "[<matplotlib.lines.Line2D at 0x7fec60293fd0>]"
      ]
     },
     "execution_count": 17,
     "metadata": {},
     "output_type": "execute_result"
    },
    {
     "data": {
      "image/png": "[encoded data removed]",
      "text/plain": [
       "<Figure size 432x288 with 1 Axes>"
      ]
     },
     "metadata": {
      "needs_background": "light"
     },
     "output_type": "display_data"
    }
   ],
   "source": [
    "plt.plot(big_loss_list[0])"
   ]
  }
 ],
 "metadata": {
  "kernelspec": {
   "display_name": "Python 3",
   "language": "python",
   "name": "python3"
  },
  "language_info": {
   "codemirror_mode": {
    "name": "ipython",
    "version": 3
   },
   "file_extension": ".py",
   "mimetype": "text/x-python",
   "name": "python",
   "nbconvert_exporter": "python",
   "pygments_lexer": "ipython3",
   "version": "3.9.2"
  }
 },
 "nbformat": 4,
 "nbformat_minor": 4
}
