{
 "cells": [
  {
   "cell_type": "markdown",
   "id": "f13aaf44",
   "metadata": {},
   "source": [
    "# Model Analysis\n",
    "Let's test the model and see how well it's doing"
   ]
  },
  {
   "cell_type": "code",
   "execution_count": 1,
   "id": "e382fd39",
   "metadata": {},
   "outputs": [],
   "source": [
    "import sys\n",
    "sys.path.append('../src/') \n",
    "import numpy as np\n",
    "import torch\n",
    "import Core as C\n",
    "import math\n",
    "import pickle\n",
    "import pandas as pd\n",
    "import time\n",
    "import matplotlib.pyplot as plt\n",
    "import Bio"
   ]
  },
  {
   "cell_type": "code",
   "execution_count": 2,
   "id": "abd00aec",
   "metadata": {},
   "outputs": [],
   "source": [
    "%load_ext autoreload"
   ]
  },
  {
   "cell_type": "code",
   "execution_count": 3,
   "id": "8f9f5c3e",
   "metadata": {},
   "outputs": [],
   "source": [
    "autoreload"
   ]
  },
  {
   "cell_type": "markdown",
   "id": "5374474f",
   "metadata": {},
   "source": [
    "First, we need to load back in the model with weights."
   ]
  },
  {
   "cell_type": "code",
   "execution_count": 4,
   "id": "bf0a1f51",
   "metadata": {},
   "outputs": [],
   "source": [
    "ntokens = 5 # the size of vocabulary\n",
    "emsize = 10 # embedding dimension\n",
    "nhid = 10 # the dimension of the feedforward network model in nn.TransformerEncoder\n",
    "nlayers = 3 # the number of nn.TransformerEncoderLayer in nn.TransformerEncoder\n",
    "nhead = 5 # the number of heads in the multiheadattention models\n",
    "dropout = 0.2 # the dropout value\n",
    "model = C.model.TransformerModel(ntokens, emsize, nhead, nhid, nlayers, dropout).to('cuda')\n",
    "optimizer = torch.optim.Adam(model.parameters(), lr=1e-8, betas=(0.9, 0.8))\n",
    "checkpoint = torch.load('./ModelSaves/Save-290.pt')\n",
    "#checkpoint = torch.load('./ModelSaves/Save-50-v2.pt')"
   ]
  },
  {
   "cell_type": "code",
   "execution_count": 5,
   "id": "64b98662",
   "metadata": {},
   "outputs": [],
   "source": [
    "model.load_state_dict(checkpoint['model_state_dict'])\n",
    "optimizer.load_state_dict(checkpoint['optimizer_state_dict'])\n",
    "epoch = checkpoint['epoch']\n",
    "loss = checkpoint['loss']"
   ]
  },
  {
   "cell_type": "code",
   "execution_count": 6,
   "id": "a4874abd",
   "metadata": {},
   "outputs": [],
   "source": [
    "model = model.cpu()"
   ]
  },
  {
   "cell_type": "code",
   "execution_count": 7,
   "id": "e32e3402",
   "metadata": {},
   "outputs": [],
   "source": [
    "with open('./Pickle_storage/test_data_tokenized_WA.pkl', 'rb') as handle:\n",
    "    data, embed_map = pickle.load(handle) # We stored the data and embedding map in one file\n",
    "debed_map = {v: k for k, v in embed_map.items()}\n",
    "ds_test = C.dataset.Dataset(data, embed=embed_map)\n",
    "#ds_test.drop_dashes()\n",
    "#ds_test.make_subseqs(length=200)\n",
    "bs=1\n",
    "if bs != 1:\n",
    "    dl_test = torch.utils.data.DataLoader(ds_test, batch_size=bs, pin_memory=False)  # The data loader\n",
    "else:\n",
    "    dl_test = torch.utils.data.DataLoader(ds_test, batch_size=bs, pin_memory=True)  # The data loader\n"
   ]
  },
  {
   "cell_type": "code",
   "execution_count": 197,
   "id": "c4f7bf49",
   "metadata": {},
   "outputs": [
    {
     "data": {
      "text/plain": [
       "dict_keys(['key', 'seq', 'label_seq', 'tokens', 'drop_pos'])"
      ]
     },
     "execution_count": 197,
     "metadata": {},
     "output_type": "execute_result"
    }
   ],
   "source": [
    "ds_test.full_data[0].keys()"
   ]
  },
  {
   "cell_type": "code",
   "execution_count": 69,
   "id": "b1792bb8",
   "metadata": {
    "scrolled": true
   },
   "outputs": [],
   "source": [
    "preds = []\n",
    "raw_preds = []\n",
    "seq_seen = []\n",
    "all_targets = []\n",
    "all_probs = []\n",
    "for batch in dl_test:\n",
    "    with torch.no_grad():\n",
    "        seq, targets = batch\n",
    "        if bs==1:\n",
    "            seq = torch.flatten(torch.as_tensor(seq['tokens']))\n",
    "            seq = seq.view(1,-1)\n",
    "            #print(seq.shape)\n",
    "        all_targets.append(targets.numpy())\n",
    "        pred, probs = model.predict(seq)\n",
    "        probs = np.squeeze(probs.numpy())\n",
    "        all_probs.append(probs)\n",
    "        raw_preds.append(pred)\n",
    "        seq_seen.append(seq.numpy())\n",
    "        #print(type(pred))\n",
    "        preds.append(np.equal(pred, targets.numpy()).flatten())"
   ]
  },
  {
   "cell_type": "code",
   "execution_count": 151,
   "id": "f82e3296",
   "metadata": {},
   "outputs": [
    {
     "data": {
      "text/plain": [
       "799"
      ]
     },
     "execution_count": 151,
     "metadata": {},
     "output_type": "execute_result"
    }
   ],
   "source": [
    "len(raw_preds)"
   ]
  },
  {
   "cell_type": "code",
   "execution_count": 93,
   "id": "7a2453d9",
   "metadata": {},
   "outputs": [
    {
     "data": {
      "text/plain": [
       "1633.3"
      ]
     },
     "execution_count": 93,
     "metadata": {},
     "output_type": "execute_result"
    }
   ],
   "source": [
    "np.mean(np.asarray([np.equal(raw_preds[test_idx], all_targets[test_idx]).sum() for test_idx in range(100)]))"
   ]
  },
  {
   "cell_type": "code",
   "execution_count": 71,
   "id": "828502db",
   "metadata": {},
   "outputs": [
    {
     "data": {
      "text/plain": [
       "array([[0, 0, 0, ..., 0, 0, 1]])"
      ]
     },
     "execution_count": 71,
     "metadata": {},
     "output_type": "execute_result"
    }
   ],
   "source": [
    "raw_preds[0]"
   ]
  },
  {
   "cell_type": "code",
   "execution_count": 72,
   "id": "d8295cce",
   "metadata": {},
   "outputs": [
    {
     "data": {
      "text/plain": [
       "array([1525,  714])"
      ]
     },
     "execution_count": 72,
     "metadata": {},
     "output_type": "execute_result"
    }
   ],
   "source": [
    "np.bincount(raw_preds[0].flatten())"
   ]
  },
  {
   "cell_type": "code",
   "execution_count": 73,
   "id": "f1b7f838",
   "metadata": {},
   "outputs": [
    {
     "data": {
      "text/plain": [
       "array([1169, 1070])"
      ]
     },
     "execution_count": 73,
     "metadata": {},
     "output_type": "execute_result"
    }
   ],
   "source": [
    "np.bincount(all_targets[0].flatten())"
   ]
  },
  {
   "cell_type": "code",
   "execution_count": 91,
   "id": "ee21cd71",
   "metadata": {},
   "outputs": [
    {
     "data": {
      "text/plain": [
       "array([ 609, 1628])"
      ]
     },
     "execution_count": 91,
     "metadata": {},
     "output_type": "execute_result"
    }
   ],
   "source": [
    "np.bincount(np.equal(raw_preds[test_idx], all_targets[test_idx]).flatten())"
   ]
  },
  {
   "cell_type": "code",
   "execution_count": 92,
   "id": "9b897566",
   "metadata": {},
   "outputs": [
    {
     "data": {
      "text/plain": [
       "array([0, 0, 0, ..., 0, 0, 1])"
      ]
     },
     "execution_count": 92,
     "metadata": {},
     "output_type": "execute_result"
    }
   ],
   "source": [
    "raw_preds[test_idx][0]"
   ]
  },
  {
   "cell_type": "code",
   "execution_count": null,
   "id": "5f3c02b6",
   "metadata": {},
   "outputs": [],
   "source": []
  },
  {
   "cell_type": "code",
   "execution_count": 95,
   "id": "07ecb724",
   "metadata": {},
   "outputs": [],
   "source": [
    "max_probs = [np.max(ar, axis=1) for ar in all_probs]"
   ]
  },
  {
   "cell_type": "markdown",
   "id": "e7d75880",
   "metadata": {},
   "source": [
    "Now let's compute some basic statistics on the output. First, is our model better than just guessing using the average number of `0`'s and `1`'s?"
   ]
  },
  {
   "cell_type": "code",
   "execution_count": 94,
   "id": "f971039e",
   "metadata": {},
   "outputs": [
    {
     "data": {
      "text/plain": [
       "array([ True,  True,  True, ..., False,  True,  True])"
      ]
     },
     "execution_count": 94,
     "metadata": {},
     "output_type": "execute_result"
    }
   ],
   "source": [
    "preds[0]"
   ]
  },
  {
   "cell_type": "code",
   "execution_count": 96,
   "id": "ee46cd26",
   "metadata": {},
   "outputs": [
    {
     "data": {
      "text/plain": [
       "(2239,)"
      ]
     },
     "execution_count": 96,
     "metadata": {},
     "output_type": "execute_result"
    }
   ],
   "source": [
    "preds[0].shape"
   ]
  },
  {
   "cell_type": "code",
   "execution_count": 97,
   "id": "e211f2c7",
   "metadata": {},
   "outputs": [
    {
     "data": {
      "text/plain": [
       "array([ 604, 1635])"
      ]
     },
     "execution_count": 97,
     "metadata": {},
     "output_type": "execute_result"
    }
   ],
   "source": [
    "np.bincount(preds[0])"
   ]
  },
  {
   "cell_type": "code",
   "execution_count": 98,
   "id": "684b81a6",
   "metadata": {},
   "outputs": [
    {
     "name": "stdout",
     "output_type": "stream",
     "text": [
      "Model accuracy on WA test data: 72.6236573753624 %\n",
      "Random guessing using only label frequencies 47.92393442465215 %\n",
      "The overall improvement is  24.69972295071024 %\n"
     ]
    }
   ],
   "source": [
    "avg_acc = np.concatenate(preds).mean()\n",
    "print('Model accuracy on WA test data:', avg_acc * 100, '%')\n",
    "lf_acc = np.concatenate(all_targets, axis=1).mean()\n",
    "print('Random guessing using only label frequencies', lf_acc * 100, '%')\n",
    "print('The overall improvement is ', (avg_acc- lf_acc)  * 100, '%')"
   ]
  },
  {
   "cell_type": "markdown",
   "id": "ab2bd0f3",
   "metadata": {},
   "source": [
    "So we have a 24.6% improvement in prediction quality over using the native labels."
   ]
  },
  {
   "cell_type": "markdown",
   "id": "f83ceecf",
   "metadata": {},
   "source": [
    "Next, we ask what percentage of "
   ]
  },
  {
   "cell_type": "code",
   "execution_count": 70,
   "id": "4f2b5faa",
   "metadata": {},
   "outputs": [
    {
     "data": {
      "text/plain": [
       "0.31889236266190263"
      ]
     },
     "execution_count": 70,
     "metadata": {},
     "output_type": "execute_result"
    }
   ],
   "source": [
    "raw_preds[0].mean()"
   ]
  },
  {
   "cell_type": "code",
   "execution_count": 11,
   "id": "04a8daa9",
   "metadata": {},
   "outputs": [],
   "source": [
    "test_idx = 9\n",
    "letters = [debed_map[v.item()] for v in np.nditer(seq_seen[test_idx][0,:])]\n",
    "numerical_tokens = [v.item() for v in np.nditer(seq_seen[test_idx][0,:])]\n",
    "labels = [v.item() for v in np.nditer(all_targets[test_idx][0,:])]\n",
    "predsl = [int(v.item()) for v in np.nditer(raw_preds[test_idx][0,:])]\n",
    "max_prob_val = max_probs[test_idx]"
   ]
  },
  {
   "cell_type": "code",
   "execution_count": 143,
   "id": "23f2b716",
   "metadata": {},
   "outputs": [
    {
     "data": {
      "image/png": "[encoded data removed]",
      "text/plain": [
       "<Figure size 1152x288 with 2 Axes>"
      ]
     },
     "metadata": {
      "needs_background": "light"
     },
     "output_type": "display_data"
    }
   ],
   "source": [
    "sl = 16\n",
    "start = 0\n",
    "view_start, view_end = start, 3*(start + sl)\n",
    "fig, ax = plt.subplots(1,1, figsize=(16,4))\n",
    "v = ''\n",
    "DNA_seq_ = letters[view_start:view_end]\n",
    "for token in DNA_seq_:\n",
    "    v += token\n",
    "ax = [ax]\n",
    "im1 = ax[0].imshow(np.asarray([labels,labels,labels, predsl,predsl,predsl , max_prob_val,max_prob_val,max_prob_val])[:, view_start:view_end], cmap='plasma')\n",
    "#ax[1].imshow(np.asarray([numerical_tokens] * 6)[:, view_start:view_end])\n",
    "ax[0].set_yticks([1, 4, 7])\n",
    "ax[0].set_yticklabels(['Possible variation', 'Predictions', 'Prediction Confidence'], fontsize=16)\n",
    "ax[0].set_xticks(np.arange(view_end-view_start))\n",
    "ax[0].set_xticklabels(DNA_seq_, fontsize=16)\n",
    "#ax[1].set_yticks([])\n",
    "ax[0].set_xlabel('Position', fontsize=16)\n",
    "#ax[1].set_xlabel('Position')\n",
    "#ax[0]\n",
    "#ax[0].set_aspect('equal')\n",
    "plt.colorbar(im1)\n",
    "plt.tight_layout()\n",
    "plt.savefig('./Images/SequencePredictionPlot.eps')\n",
    "plt.savefig('./Images/SequencePredictionPlot.png')\n",
    "plt.show()"
   ]
  },
  {
   "cell_type": "code",
   "execution_count": 36,
   "id": "ee443014",
   "metadata": {},
   "outputs": [],
   "source": [
    "preds_np = np.concatenate([np.squeeze(ar) for ar in preds])\n",
    "raw_preds_np = np.concatenate([np.squeeze(ar) for ar in raw_preds])\n",
    "seq_seen_np = np.concatenate([np.squeeze(ar) for ar in seq_seen])\n",
    "all_targets_np = np.concatenate([np.squeeze(ar) for ar in all_targets])\n",
    "A_loc = np.where(seq_seen_np == 0)\n",
    "C_loc = np.where(seq_seen_np==1)\n",
    "T_loc = np.where(seq_seen_np==2)\n",
    "G_loc = np.where(seq_seen_np==3)\n",
    "skip_loc = np.where(seq_seen_np==4)"
   ]
  },
  {
   "cell_type": "code",
   "execution_count": 116,
   "id": "6c2fb10d",
   "metadata": {},
   "outputs": [
    {
     "data": {
      "text/plain": [
       "(array([      1,       9,      11, ..., 1662865, 1662866, 1662878]),)"
      ]
     },
     "execution_count": 116,
     "metadata": {},
     "output_type": "execute_result"
    }
   ],
   "source": [
    " np.where(seq_seen_np == 2)"
   ]
  },
  {
   "cell_type": "code",
   "execution_count": 115,
   "id": "eef9518d",
   "metadata": {},
   "outputs": [
    {
     "name": "stdout",
     "output_type": "stream",
     "text": [
      "[0 2 3 0 3 4 3 0 1 2 0 2 1 0 4 2 4 4 2 3]\n"
     ]
    }
   ],
   "source": [
    "print(seq_seen_np[0:20])"
   ]
  },
  {
   "cell_type": "markdown",
   "id": "be8f1628",
   "metadata": {},
   "source": [
    "### Variable sites?"
   ]
  },
  {
   "cell_type": "markdown",
   "id": "7f25da68",
   "metadata": {},
   "source": [
    "Next, we ask what percentage of nucleotide sites are variable.\n",
    "\n",
    "First, a direct mean calculation, get a population level statistic."
   ]
  },
  {
   "cell_type": "code",
   "execution_count": 148,
   "id": "8abf6bab",
   "metadata": {},
   "outputs": [
    {
     "data": {
      "text/plain": [
       "0.10725466560458419"
      ]
     },
     "execution_count": 148,
     "metadata": {},
     "output_type": "execute_result"
    }
   ],
   "source": [
    "np.hstack([raw_preds_np[test_loc] for test_loc in [A_loc, C_loc, T_loc, G_loc]]).mean()"
   ]
  },
  {
   "cell_type": "markdown",
   "id": "313313c5",
   "metadata": {},
   "source": [
    "### Distribution of percentage of variable sites?\n",
    "Now we ask for the distribution. We ignore skip characters for this section."
   ]
  },
  {
   "cell_type": "code",
   "execution_count": 188,
   "id": "7f157935",
   "metadata": {},
   "outputs": [],
   "source": [
    "var_sites_counts = []\n",
    "seq_len_list = []\n",
    "for seq, preds in zip(seq_seen, raw_preds):\n",
    "    \n",
    "    non_gap = np.where(seq[0].flatten() != 4)\n",
    "    \n",
    "    var_sites_counts.append(preds.flatten()[non_gap].sum())\n",
    "    seq_len_list.append(preds.flatten()[non_gap].shape[0])"
   ]
  },
  {
   "cell_type": "code",
   "execution_count": 190,
   "id": "138234b1",
   "metadata": {},
   "outputs": [],
   "source": [
    "perc_var = [v/q for v,q in zip(var_sites_counts, seq_len_list)]"
   ]
  },
  {
   "cell_type": "code",
   "execution_count": 189,
   "id": "8c985221",
   "metadata": {},
   "outputs": [
    {
     "data": {
      "text/plain": [
       "(array([ 3.,  1.,  4.,  7., 18., 11., 27., 24., 26., 20., 29., 31., 33.,\n",
       "        28., 35., 16., 29., 25., 37., 22., 33., 45., 28., 35., 33., 43.,\n",
       "        30., 27., 21., 23., 12., 15.,  8.,  9.,  3.,  4.,  1.,  2.,  0.,\n",
       "         1.]),\n",
       " array([126.   , 128.475, 130.95 , 133.425, 135.9  , 138.375, 140.85 ,\n",
       "        143.325, 145.8  , 148.275, 150.75 , 153.225, 155.7  , 158.175,\n",
       "        160.65 , 163.125, 165.6  , 168.075, 170.55 , 173.025, 175.5  ,\n",
       "        177.975, 180.45 , 182.925, 185.4  , 187.875, 190.35 , 192.825,\n",
       "        195.3  , 197.775, 200.25 , 202.725, 205.2  , 207.675, 210.15 ,\n",
       "        212.625, 215.1  , 217.575, 220.05 , 222.525, 225.   ]),\n",
       " <BarContainer object of 40 artists>)"
      ]
     },
     "execution_count": 189,
     "metadata": {},
     "output_type": "execute_result"
    },
    {
     "data": {
      "image/png": "[encoded data removed]",
      "text/plain": [
       "<Figure size 432x288 with 1 Axes>"
      ]
     },
     "metadata": {
      "needs_background": "light"
     },
     "output_type": "display_data"
    }
   ],
   "source": [
    "plt.hist(var_sites_counts, bins=40)"
   ]
  },
  {
   "cell_type": "code",
   "execution_count": 207,
   "id": "9658832e",
   "metadata": {},
   "outputs": [
    {
     "data": {
      "image/png": "[encoded data removed]",
      "text/plain": [
       "<Figure size 432x288 with 1 Axes>"
      ]
     },
     "metadata": {
      "needs_background": "light"
     },
     "output_type": "display_data"
    }
   ],
   "source": [
    "plt.hist(perc_var, bins=20)\n",
    "plt.xlabel('Percentage of sites predicted variable')\n",
    "plt.ylabel('Number of sequences in test set')\n",
    "plt.title('Percentage of predicted variable sites per sequence')\n",
    "plt.savefig('./Images/VarSitesDist.eps')\n",
    "plt.savefig('./Images/VarSitesDist.png')\n"
   ]
  },
  {
   "cell_type": "markdown",
   "id": "8f790a47",
   "metadata": {},
   "source": [
    "Now we want to know if the bases themselves are useful in this prediction problem."
   ]
  },
  {
   "cell_type": "code",
   "execution_count": 99,
   "id": "d2e639bb",
   "metadata": {},
   "outputs": [
    {
     "data": {
      "text/plain": [
       "{'A': 0, 'C': 1, 'T': 2, 'G': 3, '-': 4}"
      ]
     },
     "execution_count": 99,
     "metadata": {},
     "output_type": "execute_result"
    }
   ],
   "source": [
    "embed_map"
   ]
  },
  {
   "cell_type": "code",
   "execution_count": 201,
   "id": "1537bd5d",
   "metadata": {},
   "outputs": [
    {
     "data": {
      "text/plain": [
       "1662881"
      ]
     },
     "execution_count": 201,
     "metadata": {},
     "output_type": "execute_result"
    }
   ],
   "source": [
    "# Check that we didn't loose any bases before we compute per-base statistics.\n",
    "sum(item[0].shape[0] for item in [A_loc, C_loc, T_loc, G_loc, skip_loc])"
   ]
  },
  {
   "cell_type": "code",
   "execution_count": 101,
   "id": "498296eb",
   "metadata": {},
   "outputs": [],
   "source": [
    "from sklearn import metrics"
   ]
  },
  {
   "cell_type": "code",
   "execution_count": 213,
   "id": "2b9982ef",
   "metadata": {},
   "outputs": [
    {
     "data": {
      "image/png": "[encoded data removed]",
      "text/plain": [
       "<Figure size 1152x216 with 5 Axes>"
      ]
     },
     "metadata": {
      "needs_background": "light"
     },
     "output_type": "display_data"
    }
   ],
   "source": [
    "fig, ax = plt.subplots(1,5, figsize=(16,3))\n",
    "for idx, va in enumerate(zip(['A', 'C', 'T', 'G', '- (gap)'], [A_loc, C_loc, T_loc, G_loc, skip_loc])):\n",
    "    let, loc = va\n",
    "    loc = loc[0]\n",
    "    #print(type(va[1][0]), va[1][0])\n",
    "    #data_conf_mat_n = metrics.confusion_matrix(all_targets_np[loc].astype(int), (preds_np[loc]).astype(int), normalize='true')\n",
    "    #print(data_conf_mat_n, '\\n')\n",
    "    data_conf_mat = metrics.confusion_matrix(all_targets_np[loc].astype(int), (raw_preds_np[loc]).astype(int))\n",
    "    #print(data_conf_mat, '\\n')\n",
    "    ax[idx].imshow(data_conf_mat, vmin=0)\n",
    "    ax[idx].set_title(f'Base {let}', fontsize=16)\n",
    "    #ax[idx].set_title(f'Base {let} Confusion matrix', fontsize=16)\n",
    "    ax[idx].set_xticks([0,1])\n",
    "    ax[idx].set_yticks([0,1])\n",
    "    ax[idx].set_xlabel('Is a variable site?', fontsize=16)\n",
    "    ax[idx].set_ylabel('Observed variation', fontsize=16)\n",
    "    #ax[idx].set_yticklabels(['Label 0', 'label 1' ])\n",
    "    #ax[idx].set_xticklabels(['Predicted 0', 'Predicted 1'])\n",
    "    ax[idx].set_yticklabels(['No', 'Yes' ])\n",
    "    ax[idx].set_xticklabels(['No', 'Yes'])\n",
    "\n",
    "    for (i, j), z in np.ndenumerate(data_conf_mat):\n",
    "        text = ax[idx].text(j, i, '{:7d}'.format(z), ha='center', va='center', c='k', fontsize=14)\n",
    "        text.set_backgroundcolor('w')\n",
    "plt.tight_layout()\n",
    "plt.savefig(f'./Images/ConfMat_nonrm.png')\n",
    "plt.savefig(f'./Images/ConfMat_nonrm.eps')\n",
    "plt.show()\n",
    "    "
   ]
  },
  {
   "cell_type": "code",
   "execution_count": 221,
   "id": "696d41ea",
   "metadata": {},
   "outputs": [
    {
     "name": "stdout",
     "output_type": "stream",
     "text": [
      "[[0.93937256 0.06062744]\n",
      " [0.93970357 0.06029643]] \n",
      "\n",
      "[[0.78651348 0.21348652]\n",
      " [0.78640377 0.21359623]] \n",
      "\n",
      "[[0.94248745 0.05751255]\n",
      " [0.94258    0.05742   ]] \n",
      "\n",
      "[[0.85781214 0.14218786]\n",
      " [0.85856085 0.14143915]] \n",
      "\n",
      "[[0.       0.      ]\n",
      " [0.005384 0.994616]] \n",
      "\n"
     ]
    },
    {
     "data": {
      "image/png": "[encoded data removed]",
      "text/plain": [
       "<Figure size 1152x216 with 5 Axes>"
      ]
     },
     "metadata": {
      "needs_background": "light"
     },
     "output_type": "display_data"
    }
   ],
   "source": [
    "fig, ax = plt.subplots(1,5, figsize=(16,3))\n",
    "for idx, va in enumerate(zip(['A', 'C', 'T', 'G', '- (gap)'], [A_loc, C_loc, T_loc, G_loc, skip_loc])):\n",
    "    let, loc = va\n",
    "    loc = loc[0]\n",
    "    #print(type(va[1][0]), va[1][0])\n",
    "    #data_conf_mat_n = metrics.confusion_matrix(all_targets_np[loc].astype(int), (preds_np[loc]).astype(int), normalize='true')\n",
    "    #print(data_conf_mat_n, '\\n')\n",
    "    data_conf_mat = metrics.confusion_matrix(all_targets_np[loc].astype(int), (raw_preds_np[loc]).astype(int), normalize='true')\n",
    "    print(data_conf_mat, '\\n')\n",
    "    ax[idx].imshow(data_conf_mat, vmin=0)\n",
    "    ax[idx].set_title(f'Base {let}', fontsize=16)\n",
    "    #ax[idx].set_title(f'Base {let} Confusion matrix', fontsize=16)\n",
    "    ax[idx].set_xticks([0,1])\n",
    "    ax[idx].set_yticks([0,1])\n",
    "    ax[idx].set_xlabel('Is a variable site?', fontsize=16)\n",
    "    ax[idx].set_ylabel('Observed variation', fontsize=16)\n",
    "    #ax[idx].set_yticklabels(['Label 0', 'label 1' ])\n",
    "    #ax[idx].set_xticklabels(['Predicted 0', 'Predicted 1'])\n",
    "    ax[idx].set_yticklabels(['No', 'Yes' ])\n",
    "    ax[idx].set_xticklabels(['No', 'Yes'])\n",
    "    for (i, j), z in np.ndenumerate(data_conf_mat):\n",
    "        #print(z)\n",
    "        text = ax[idx].text(j, i, '{:.4f}'.format(z), ha='center', va='center', c='k', fontsize=14)\n",
    "        text.set_backgroundcolor('w')\n",
    "plt.tight_layout()\n",
    "plt.savefig(f'./Images/ConfMat_rownorm.png')\n",
    "plt.savefig(f'./Images/ConfMat_rownorm.eps')\n",
    "plt.show()\n"
   ]
  },
  {
   "cell_type": "code",
   "execution_count": 131,
   "id": "7ef913b7",
   "metadata": {},
   "outputs": [
    {
     "name": "stdout",
     "output_type": "stream",
     "text": [
      "0.4303013733075628\n"
     ]
    }
   ],
   "source": [
    "print(metrics.f1_score(all_targets_np.astype(int), preds_np.astype(int)))"
   ]
  },
  {
   "cell_type": "code",
   "execution_count": 40,
   "id": "5330ffb3",
   "metadata": {},
   "outputs": [
    {
     "data": {
      "text/plain": [
       "0.994615998176846"
      ]
     },
     "execution_count": 40,
     "metadata": {},
     "output_type": "execute_result"
    }
   ],
   "source": [
    "np.where(all_targets_np[loc].astype(int) == (preds_np[loc]).astype(int))[0].shape[0] / preds_np[loc].shape[0]"
   ]
  },
  {
   "cell_type": "code",
   "execution_count": 41,
   "id": "cbbb75a8",
   "metadata": {},
   "outputs": [
    {
     "data": {
      "text/plain": [
       "102682"
      ]
     },
     "execution_count": 41,
     "metadata": {},
     "output_type": "execute_result"
    }
   ],
   "source": [
    "all_targets_np[T_loc].sum()"
   ]
  },
  {
   "cell_type": "code",
   "execution_count": 567,
   "id": "8749df07",
   "metadata": {},
   "outputs": [
    {
     "data": {
      "text/plain": [
       "207671"
      ]
     },
     "execution_count": 567,
     "metadata": {},
     "output_type": "execute_result"
    }
   ],
   "source": [
    "(preds_np[loc]).astype(int).sum()"
   ]
  },
  {
   "cell_type": "code",
   "execution_count": 525,
   "id": "827c543a",
   "metadata": {},
   "outputs": [
    {
     "data": {
      "text/plain": [
       "array([0, 0, 0, ..., 0, 1, 1])"
      ]
     },
     "execution_count": 525,
     "metadata": {},
     "output_type": "execute_result"
    }
   ],
   "source": [
    "all_targets_np"
   ]
  },
  {
   "cell_type": "code",
   "execution_count": 545,
   "id": "5a4f6ff2",
   "metadata": {},
   "outputs": [
    {
     "data": {
      "text/plain": [
       "{'A': 0, 'C': 1, 'T': 2, 'G': 3, '-': 4}"
      ]
     },
     "execution_count": 545,
     "metadata": {},
     "output_type": "execute_result"
    }
   ],
   "source": [
    "embed_map"
   ]
  },
  {
   "cell_type": "code",
   "execution_count": 603,
   "id": "dabc545c",
   "metadata": {},
   "outputs": [
    {
     "data": {
      "text/plain": [
       "(array([0.32227802, 0.1823334 , 0.23810859, 0.21701267, 0.29026731]),\n",
       " array([0. , 0.8, 1.6, 2.4, 3.2, 4. ]),\n",
       " <BarContainer object of 5 artists>)"
      ]
     },
     "execution_count": 603,
     "metadata": {},
     "output_type": "execute_result"
    },
    {
     "data": {
      "image/png": "[encoded data removed]",
      "text/plain": [
       "<Figure size 432x288 with 1 Axes>"
      ]
     },
     "metadata": {
      "needs_background": "light"
     },
     "output_type": "display_data"
    }
   ],
   "source": [
    "plt.hist(seq_seen_np, bins=5, density=True)"
   ]
  },
  {
   "cell_type": "code",
   "execution_count": null,
   "id": "7d92f0d4",
   "metadata": {},
   "outputs": [],
   "source": []
  }
 ],
 "metadata": {
  "kernelspec": {
   "display_name": "Python 3",
   "language": "python",
   "name": "python3"
  },
  "language_info": {
   "codemirror_mode": {
    "name": "ipython",
    "version": 3
   },
   "file_extension": ".py",
   "mimetype": "text/x-python",
   "name": "python",
   "nbconvert_exporter": "python",
   "pygments_lexer": "ipython3",
   "version": "3.9.2"
  }
 },
 "nbformat": 4,
 "nbformat_minor": 5
}
